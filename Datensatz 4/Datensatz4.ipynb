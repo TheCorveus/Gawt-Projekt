{
 "cells": [
  {
   "attachments": {},
   "cell_type": "markdown",
   "metadata": {},
   "source": [
    "Einführung des Programms mit Einlesung der Datei(en)"
   ]
  },
  {
   "cell_type": "code",
   "execution_count": 5,
   "metadata": {},
   "outputs": [
    {
     "name": "stdout",
     "output_type": "stream",
     "text": [
      "    WERTE\n",
      "0      13\n",
      "1      43\n",
      "2      39\n",
      "3      99\n",
      "4      26\n",
      "..    ...\n",
      "95     65\n",
      "96     99\n",
      "97     16\n",
      "98     30\n",
      "99     86\n",
      "\n",
      "[100 rows x 1 columns]\n"
     ]
    }
   ],
   "source": [
    "import pandas as pd\n",
    "import numpy as np\n",
    "import matplotlib.pyplot as plt\n",
    "\n",
    "\n",
    "data = pd.read_csv('data.csv')  #[seperator muss auf semicolon gestezt werden, da es in den Daten so gemacht wird // ALTE DATEN]\n",
    "\n",
    "df = pd.DataFrame(data)\n",
    "print(data)\n"
   ]
  },
  {
   "attachments": {},
   "cell_type": "markdown",
   "metadata": {},
   "source": [
    "PLOTS"
   ]
  },
  {
   "cell_type": "code",
   "execution_count": 13,
   "metadata": {},
   "outputs": [
    {
     "name": "stdout",
     "output_type": "stream",
     "text": [
      "AxesSubplot(0.125,0.11;0.775x0.77)\n"
     ]
    }
   ],
   "source": [
    "print(df.boxplot())"
   ]
  },
  {
   "attachments": {},
   "cell_type": "markdown",
   "metadata": {},
   "source": [
    "Verschiedene Einzelteile des Datensatzes\n"
   ]
  },
  {
   "cell_type": "code",
   "execution_count": 12,
   "metadata": {},
   "outputs": [
    {
     "name": "stdout",
     "output_type": "stream",
     "text": [
      "\n",
      "Modus\n",
      "   WERTE\n",
      "0     45\n",
      "1     86\n",
      "2     99\n",
      "\n",
      "Artihmetischer Mittelwert\n",
      "WERTE    51.17\n",
      "dtype: float64\n",
      "\n",
      "Median\n",
      "WERTE    47.0\n",
      "dtype: float64\n",
      "\n",
      "\n",
      "\n",
      "\n",
      "Mittler abweichung von median\n",
      "WERTE    24.7168\n",
      "dtype: float64\n",
      "\n",
      "VARIANZ\n",
      "WERTE    810.364747\n",
      "dtype: float64\n",
      "\n"
     ]
    }
   ],
   "source": [
    "\n",
    "\n",
    "\n",
    "print(\"\\nModus\")\n",
    "print(df.mode())\n",
    "print(\"\")\n",
    "\n",
    "print(\"Artihmetischer Mittelwert\")\n",
    "print(df.mean())\n",
    "print(\"\")\n",
    "\n",
    "print(\"Median\")\n",
    "print(df.median())\n",
    "print(\"\\n\\n\")\n",
    "\n",
    "\n",
    "print(\"\\nMittler abweichung von median\")\n",
    "print(df.mad())\n",
    "print(\"\")\n",
    "\n",
    "\n",
    "#VARIANZ (STICHPROBENVARIANZ)\n",
    "print(\"VARIANZ\")\n",
    "print(df.var())\n",
    "print(\"\")"
   ]
  },
  {
   "attachments": {},
   "cell_type": "markdown",
   "metadata": {},
   "source": [
    "Plots"
   ]
  },
  {
   "cell_type": "code",
   "execution_count": null,
   "metadata": {},
   "outputs": [],
   "source": []
  }
 ],
 "metadata": {
  "kernelspec": {
   "display_name": "base",
   "language": "python",
   "name": "python3"
  },
  "language_info": {
   "codemirror_mode": {
    "name": "ipython",
    "version": 3
   },
   "file_extension": ".py",
   "mimetype": "text/x-python",
   "name": "python",
   "nbconvert_exporter": "python",
   "pygments_lexer": "ipython3",
   "version": "3.9.13"
  },
  "orig_nbformat": 4,
  "vscode": {
   "interpreter": {
    "hash": "563b8e9bcd67cd62866d21e19133357a984160aa9943dcbc04c36b8fb34ba49a"
   }
  }
 },
 "nbformat": 4,
 "nbformat_minor": 2
}
